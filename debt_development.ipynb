{
  "nbformat": 4,
  "nbformat_minor": 0,
  "metadata": {
    "colab": {
      "name": "examen_2019_sergio_cañón.ipynb",
      "provenance": [],
      "collapsed_sections": []
    },
    "kernelspec": {
      "display_name": "Python 3",
      "language": "python",
      "name": "python3"
    },
    "language_info": {
      "codemirror_mode": {
        "name": "ipython",
        "version": 3
      },
      "file_extension": ".py",
      "mimetype": "text/x-python",
      "name": "python",
      "nbconvert_exporter": "python",
      "pygments_lexer": "ipython3",
      "version": "3.5.2"
    }
  },
  "cells": [
    {
      "cell_type": "markdown",
      "metadata": {
        "id": "i-8QN0Z0U5hm"
      },
      "source": [
        "\n",
        "\n",
        "\n",
        "\n",
        "\n",
        "\n",
        "\n",
        "\n",
        "\n",
        "\n",
        "# 1. The World Bank's international debt data\n",
        "<p>No es que los humanos solo tengamos deudas para administrar nuestras necesidades. Un país también puede endeudarse para administrar su economía. Por ejemplo, el gasto en infraestructura es un ingrediente costoso requerido para que los ciudadanos de un país lleven una vida cómoda. El Banco Mundial es la organización que proporciona deuda a los países.</p>\n",
        "\n",
        "<!-- <p>En este notebook, vamos a analizar los datos de la deuda internacional recopilados por el Banco Mundial. El conjunto de datos contiene información sobre el monto de la deuda (en USD) que deben los países en desarrollo en varias categorías.</p>  -->\n",
        "    "
      ]
    },
    {
      "cell_type": "markdown",
      "metadata": {
        "id": "t6H3RB3lU5hx"
      },
      "source": [
        "<p>Vamos a encontrar las respuestas a preguntas como:\n",
        "\n",
        "<p>¿Cuál es el monto total de la deuda que deben los países enumerados en el conjunto de datos?\n",
        "<p>¿Qué país posee la cantidad máxima de deuda y cómo se ve esa cantidad?\n",
        "<p>¿Cuál es el monto promedio de la deuda de los países a través de diferentes indicadores de deuda?\n",
        "    \n",
        "Además tenemos otro dataset en el que encontramos información histórica de algunos índices de desarrollo, entre los que se encuentran algunos de deuda como son:"
      ]
    },
    {
      "cell_type": "markdown",
      "metadata": {
        "id": "Yd4Lr-fBU5hy"
      },
      "source": [
        "Series Name,Series Code\n",
        "\"Birth rate, crude (per 1,000 people)\",SP.DYN.CBRT.IN\n",
        "\n",
        "\"Central government debt, total (current LCU)\",GC.DOD.TOTL.CN\n",
        "\n",
        "\"Central government debt, total (% of GDP)\",GC.DOD.TOTL.GD.ZS"
      ]
    },
    {
      "cell_type": "markdown",
      "metadata": {
        "id": "-ALm5f1u1FeF"
      },
      "source": [
        "# METADATOS\r\n",
        "## DATA SET DESARROLLO\r\n",
        "Birth rate, crude (per 1,000 people),SP.DYN.CBRT.IN\r\n",
        "* Cause of death, by injury (% of total),SH.DTH.INJR.ZS\r\n",
        "* Central government debt, total (current LCU),GC.DOD.TOTL.CN\r\n",
        "* Central government debt, total (% of GDP),GC.DOD.TOTL.GD.ZS\r\n",
        "* Total alcohol consumption per capita (liters of pure alcohol, projected estimates, 15+ years of age),SH.ALC.PCAP.LI\r\n",
        "* Total alcohol consumption per capita, female (liters of pure alcohol, projected estimates, female 15+ years of age),SH.ALC.PCAP.FE.LI\r\n",
        "* Total alcohol consumption per capita, male (liters of pure alcohol, projected estimates, male 15+ years of age),SH.ALC.PCAP.MA.LI\r\n",
        "\r\n",
        "## DATA SET DEUDA\r\n",
        "\r\n",
        "indicator_name,indicator_code\r\n",
        "* Disbursements on external debt, long-term (DIS, current US$),DT.DIS.DLXF.CD\r\n",
        "* Interest payments on external debt, long-term (INT, current US$),DT.INT.DLXF.CD\r\n",
        "* PPG, bilateral (AMT, current US$),DT.AMT.BLAT.CD\r\n",
        "* PPG, bilateral (DIS, current US$),DT.DIS.BLAT.CD\r\n",
        "* PPG, bilateral (INT, current US$),DT.INT.BLAT.CD\r\n",
        "* PPG, multilateral (AMT, current US$),DT.AMT.MLAT.CD\r\n",
        "* PPG, multilateral (DIS, current US$),DT.DIS.MLAT.CD\r\n",
        "* PPG, multilateral (INT, current US$),DT.INT.MLAT.CD\r\n",
        "* PPG, official creditors (AMT, current US$),DT.AMT.OFFT.CD\r\n",
        "* PPG, official creditors (DIS, current US$),DT.DIS.OFFT.CD\r\n",
        "* PPG, official creditors (INT, current US$),DT.INT.OFFT.CD\r\n",
        "* Principal repayments on external debt, long-term (AMT, current US$),DT.AMT.DLXF.CD\r\n",
        "* Interest payments on external debt, private nonguaranteed (PNG) (INT, current US$),DT.INT.DPNG.CD\r\n",
        "* PPG, bonds (AMT, current US$),DT.AMT.PBND.CD\r\n",
        "* PPG, bonds (INT, current US$),DT.INT.PBND.CD\r\n",
        "* PPG, commercial banks (AMT, current US$),DT.AMT.PCBK.CD\r\n",
        "* PPG, commercial banks (DIS, current US$),DT.DIS.PCBK.CD\r\n",
        "* PPG, commercial banks (INT, current US$),DT.INT.PCBK.CD\r\n",
        "* PPG, other private creditors (AMT, current US$),DT.AMT.PROP.CD\r\n",
        "* PPG, other private creditors (DIS, current US$),DT.DIS.PROP.CD\r\n",
        "* PPG, other private creditors (INT, current US$),DT.INT.PROP.CD\r\n",
        "* PPG, private creditors (AMT, current US$),DT.AMT.PRVT.CD\r\n",
        "* PPG, private creditors (DIS, current US$),DT.DIS.PRVT.CD\r\n",
        "* PPG, private creditors (INT, current US$),DT.INT.PRVT.CD\r\n",
        "* Principal repayments on external debt, private nonguaranteed (PNG) (AMT, current US$),DT.AMT.DPNG.CD"
      ]
    },
    {
      "cell_type": "markdown",
      "metadata": {
        "id": "5EdN7kRRriS8"
      },
      "source": [
        "### 1. Inicializar y cargar el contexto spark\r\n"
      ]
    },
    {
      "cell_type": "markdown",
      "metadata": {
        "id": "K_Himgdyrl4O"
      },
      "source": [
        "##### EN COLAB\r\n"
      ]
    },
    {
      "cell_type": "code",
      "metadata": {
        "id": "M5ysHUecTayz"
      },
      "source": [
        "!apt-get install openjdk-8-jdk-headless -qq > /dev/null\r\n",
        "!wget -q https://www-us.apache.org/dist/spark/spark-2.4.7/spark-2.4.7-bin-hadoop2.7.tgz\r\n",
        "!tar xf spark-2.4.7-bin-hadoop2.7.tgz\r\n",
        "!pip install -q findspark\r\n",
        "\r\n",
        "import os\r\n",
        "os.environ[\"JAVA_HOME\"] = \"/usr/lib/jvm/java-8-openjdk-amd64\"\r\n",
        "os.environ[\"SPARK_HOME\"] = \"/content/spark-2.4.7-bin-hadoop2.7\"\r\n",
        "\r\n",
        "import findspark\r\n",
        "findspark.init()\r\n",
        "# en primer lugar inicio el contexto de Spark\r\n",
        "from pyspark import SparkContext\r\n",
        "sc = SparkContext.getOrCreate()\r\n",
        "\r\n",
        "#debido a qeu trabajaremos con spark sql introducimos el sparksql\r\n",
        "from pyspark.sql import *\r\n",
        "spark = SparkSession.builder.master(\"local[*]\").getOrCreate()\r\n",
        "\r\n",
        "import re\r\n",
        "import numpy as np\r\n",
        "import pandas as pd"
      ],
      "execution_count": null,
      "outputs": []
    },
    {
      "cell_type": "markdown",
      "metadata": {
        "id": "dO29TAy1rvX9"
      },
      "source": [
        "##### EN JUPYTER VIA DOCKER\r\n"
      ]
    },
    {
      "cell_type": "code",
      "metadata": {
        "id": "zHKKSvhLS5ds",
        "outputId": "7930279f-eb44-4eae-e274-2fe1d2f753ab"
      },
      "source": [
        "from pyspark import SparkContext \n",
        "from pyspark.sql import *\n",
        "import seaborn as sns\n",
        "import numpy as np\n",
        "sc = SparkContext()\n",
        "spark = SparkSession.builder.master(\"local[*]\").getOrCreate()\n",
        "\n",
        "conf = sc.getConf()\n",
        "conf.getAll()"
      ],
      "execution_count": null,
      "outputs": [
        {
          "output_type": "execute_result",
          "data": {
            "text/plain": [
              "[('spark.app.id', 'local-1609433597108'),\n",
              " ('spark.rdd.compress', 'True'),\n",
              " ('spark.serializer.objectStreamReset', '100'),\n",
              " ('spark.driver.port', '44703'),\n",
              " ('spark.master', 'local[*]'),\n",
              " ('spark.executor.id', 'driver'),\n",
              " ('spark.submit.deployMode', 'client'),\n",
              " ('spark.driver.host', 'localhost'),\n",
              " ('spark.app.name', 'pyspark-shell')]"
            ]
          },
          "metadata": {
            "tags": []
          },
          "execution_count": 4
        }
      ]
    },
    {
      "cell_type": "markdown",
      "metadata": {
        "id": "Py_Y2F2HsNcd"
      },
      "source": [
        "#### Parseado\r\n"
      ]
    },
    {
      "cell_type": "code",
      "metadata": {
        "id": "yAW4unfV4ULk"
      },
      "source": [
        "# importamos los csv y los pasamos a RDD\r\n",
        "\r\n",
        "deuda_RDD = sc.textFile(\"indicadores_deuda.csv\")\r\n",
        "desarrollo_RDD = sc.textFile(\"indicadores_desarrollo.csv\" )"
      ],
      "execution_count": null,
      "outputs": []
    },
    {
      "cell_type": "markdown",
      "metadata": {
        "id": "yPRksdWRwiMP"
      },
      "source": [
        "#### Data set Desarrollo"
      ]
    },
    {
      "cell_type": "code",
      "metadata": {
        "colab": {
          "base_uri": "https://localhost:8080/"
        },
        "id": "nrPLx4efpi40",
        "outputId": "92523584-985f-4477-d6cd-9418787216b1"
      },
      "source": [
        "# EDA de el RDD\n",
        "\n",
        "desarrollo_RDD_top = desarrollo_RDD.take(1)[0] # seleccionamos la primera fila\n",
        "desarrollo_RDD = desarrollo_RDD.filter(lambda x: x != desarrollo_RDD_top) # eliminamos la primera fila\n",
        "print(desarrollo_RDD.count()) \n",
        "desarrollo_RDD.take(3)"
      ],
      "execution_count": null,
      "outputs": [
        {
          "output_type": "stream",
          "text": [
            "134\n"
          ],
          "name": "stdout"
        },
        {
          "output_type": "execute_result",
          "data": {
            "text/plain": [
              "['Albania,ALB,2014 [YR2014],1023040800000,73.3202469198429,12.259',\n",
              " 'Albania,ALB,2015 [YR2015],1145500940000,79.8644448747259,12.197',\n",
              " 'Albania,ALB,2016 [YR2016],1188814490000,80.7355748396923,12.08']"
            ]
          },
          "metadata": {
            "tags": []
          },
          "execution_count": 3
        }
      ]
    },
    {
      "cell_type": "code",
      "metadata": {
        "collapsed": true,
        "id": "Hyd5pg14pSkB"
      },
      "source": [
        "def parseo_desarrollo_1(fila): # dos posibilidades de parseado\n",
        "  \"\"\"\n",
        "  Función que indica cual de los dos regex sigue una determinada fila\n",
        "  \"\"\"\n",
        "  regex = re.search('(\\D+)\\,(\\D+)\\,(\\d{4}) \\[\\S{6}\\]\\,(\\S+)\\,(\\S+)\\,(\\S+)',fila) # Paises sin espacios ni comas\n",
        "  if regex is None:\n",
        "    regex = re.search('(\\D+\\,\\s+)[\\D+]\\,(\\d{4}) \\[\\S{6}\\]\\,(\\S+)\\,(\\S+)\\,(\\S+)',fila) # Con espacios, comillas o comas\n",
        "  if regex is None:\n",
        "    return (fila, 0)  # devuelve si coincide con uno u otro criterio anterior\n",
        "  else:\n",
        "    return (fila, 1)\n"
      ],
      "execution_count": null,
      "outputs": []
    },
    {
      "cell_type": "code",
      "metadata": {
        "collapsed": true,
        "id": "sneO_8GUZIjM"
      },
      "source": [
        "def parseo_desarrollo_2(fila): \n",
        "\n",
        "  \"\"\" \n",
        "  Función que devuelve la fila parseada\n",
        "  \"\"\"\n",
        "  \n",
        "  regex = re.search(\"(\\D+)\\,(\\D+)\\,(\\d{4}) \\[\\S{6}\\]\\,(\\S+)\\,(\\S+)\\,(\\S+)\", fila)\n",
        "  if regex is None:\n",
        "    regex  = re.search(\"(\\D+\\,\\s+)[\\D+]\\,(\\d{4}) \\[\\S{6}\\]\\,(\\S+)\\,(\\S+)\\,(\\S+)\", fila)\n",
        "  return(regex.groups())\n"
      ],
      "execution_count": null,
      "outputs": []
    },
    {
      "cell_type": "code",
      "metadata": {
        "colab": {
          "base_uri": "https://localhost:8080/"
        },
        "id": "wcIkPEyMpp4b",
        "outputId": "bc7fa2aa-e48a-46a8-df1e-8dec2f230eae"
      },
      "source": [
        "# division de las lineas en función de la rgex a aplicar\n",
        "# primera expresion regex\n",
        "#segunda expresión regex\n",
        "\n",
        "parsed_rdd = desarrollo_RDD.map(lambda line: parseo_desarrollo_1(line)).filter(lambda line: line[1] == 1).map(lambda line : line[0]) \n",
        "\n",
        " # aplica el parseo en función de lo anterior\n",
        "desarrollo_parseado = parsed_rdd.map(lambda line: parseo_desarrollo_2(line))\n",
        "\n",
        "print(desarrollo_RDD.count())\n",
        "desarrollo_parseado.take(5)"
      ],
      "execution_count": null,
      "outputs": [
        {
          "output_type": "stream",
          "text": [
            "134\n"
          ],
          "name": "stdout"
        },
        {
          "output_type": "execute_result",
          "data": {
            "text/plain": [
              "[('Albania', 'ALB', '2014', '1023040800000', '73.3202469198429', '12.259'),\n",
              " ('Albania', 'ALB', '2015', '1145500940000', '79.8644448747259', '12.197'),\n",
              " ('Albania', 'ALB', '2016', '1188814490000', '80.7355748396923', '12.08'),\n",
              " ('Australia', 'AUS', '2014', '674700000', '0.042207528166503', '13.2'),\n",
              " ('Australia', 'AUS', '2015', '762718000', '0.0469480198522591', '12.9')]"
            ]
          },
          "metadata": {
            "tags": []
          },
          "execution_count": 8
        }
      ]
    },
    {
      "cell_type": "markdown",
      "metadata": {
        "id": "sGvkTigAwnhq"
      },
      "source": [
        "\n",
        "# Deuda"
      ]
    },
    {
      "cell_type": "code",
      "metadata": {
        "collapsed": true,
        "id": "Uq7v8h_P31ff"
      },
      "source": [
        "# seleccionamos la primera fila\n",
        "deuda_RDD_top = deuda_RDD.take(1)[0] \n",
        "deuda_RDD = deuda_RDD.filter(lambda x: x != deuda_RDD_top) # eliminamos la primera fila"
      ],
      "execution_count": null,
      "outputs": []
    },
    {
      "cell_type": "code",
      "metadata": {
        "colab": {
          "base_uri": "https://localhost:8080/"
        },
        "id": "oHToBs-FZI3e",
        "outputId": "c7f2920c-8d62-4955-e1f6-53e9a2089b73"
      },
      "source": [
        "deuda_RDD.take(2)"
      ],
      "execution_count": null,
      "outputs": [
        {
          "output_type": "execute_result",
          "data": {
            "text/plain": [
              "['Afghanistan,AFG,61739336.9,100847181.9,,39107845,100847181.9,,,,,49114729.4,72894453.7,23779724.3,72894453.7,,,,39903620.1,53239440.1,,13335820,53239440.1,,,,',\n",
              " 'Albania,ALB,54250280.6,790248675.2,514185620,182197616.7,236447897.3,0,39445139.5,170018.4,39615157.9,76050616.1,317194512.5,234321242.3,310371858.4,4542664.9,2279989.2,6822654.1,13847333.6,165602386.9,87884000,28101536.1,41948869.7,31030688.2,4618504.3,120324.7,35769517.2']"
            ]
          },
          "metadata": {
            "tags": []
          },
          "execution_count": 10
        }
      ]
    },
    {
      "cell_type": "code",
      "metadata": {
        "collapsed": true,
        "id": "ESCx18_JS5dz"
      },
      "source": [
        "def parseo_deuda_1(line):\n",
        "  \"\"\"\n",
        "  Esta función susutituye caracteres qeu pueden dar problemas como las comillas o diferentes patrones.\n",
        "  Las sustituyen por espacios\n",
        "  \"\"\"\n",
        "  match = re.sub(r'\"','',line)\n",
        "  x = re.sub(r'\\,\\s{1}',' ',match)\n",
        "  return x"
      ],
      "execution_count": null,
      "outputs": []
    },
    {
      "cell_type": "code",
      "metadata": {
        "id": "VMEWay3R4vby"
      },
      "source": [
        "#aplicamos sustitución\r\n",
        "\r\n",
        "deuda_parseado = deuda_RDD.map(parseo_deuda_1).map(lambda x: x.split(\",\")) # parseado por comas"
      ],
      "execution_count": null,
      "outputs": []
    },
    {
      "cell_type": "code",
      "metadata": {
        "colab": {
          "base_uri": "https://localhost:8080/"
        },
        "id": "-xGHv6svS5d0",
        "outputId": "8fcda1e6-bd34-405f-c40e-1b24e2deca78"
      },
      "source": [
        "deuda_parseado.take(3)"
      ],
      "execution_count": null,
      "outputs": [
        {
          "output_type": "execute_result",
          "data": {
            "text/plain": [
              "[['Afghanistan',\n",
              "  'AFG',\n",
              "  '61739336.9',\n",
              "  '100847181.9',\n",
              "  '',\n",
              "  '39107845',\n",
              "  '100847181.9',\n",
              "  '',\n",
              "  '',\n",
              "  '',\n",
              "  '',\n",
              "  '49114729.4',\n",
              "  '72894453.7',\n",
              "  '23779724.3',\n",
              "  '72894453.7',\n",
              "  '',\n",
              "  '',\n",
              "  '',\n",
              "  '39903620.1',\n",
              "  '53239440.1',\n",
              "  '',\n",
              "  '13335820',\n",
              "  '53239440.1',\n",
              "  '',\n",
              "  '',\n",
              "  '',\n",
              "  ''],\n",
              " ['Albania',\n",
              "  'ALB',\n",
              "  '54250280.6',\n",
              "  '790248675.2',\n",
              "  '514185620',\n",
              "  '182197616.7',\n",
              "  '236447897.3',\n",
              "  '0',\n",
              "  '39445139.5',\n",
              "  '170018.4',\n",
              "  '39615157.9',\n",
              "  '76050616.1',\n",
              "  '317194512.5',\n",
              "  '234321242.3',\n",
              "  '310371858.4',\n",
              "  '4542664.9',\n",
              "  '2279989.2',\n",
              "  '6822654.1',\n",
              "  '13847333.6',\n",
              "  '165602386.9',\n",
              "  '87884000',\n",
              "  '28101536.1',\n",
              "  '41948869.7',\n",
              "  '31030688.2',\n",
              "  '4618504.3',\n",
              "  '120324.7',\n",
              "  '35769517.2'],\n",
              " ['Algeria',\n",
              "  'DZA',\n",
              "  '95188724.6',\n",
              "  '171185188.1',\n",
              "  '75420000',\n",
              "  '0',\n",
              "  '95188724.6',\n",
              "  '',\n",
              "  '576463.5',\n",
              "  '0',\n",
              "  '576463.5',\n",
              "  '10320772.2',\n",
              "  '10320772.2',\n",
              "  '',\n",
              "  '10320772.2',\n",
              "  '',\n",
              "  '',\n",
              "  '',\n",
              "  '7680627.6',\n",
              "  '19031728.7',\n",
              "  '3220000',\n",
              "  '8094779',\n",
              "  '15775406.6',\n",
              "  '',\n",
              "  '13192.3',\n",
              "  '23129.8',\n",
              "  '36322.1']]"
            ]
          },
          "metadata": {
            "tags": []
          },
          "execution_count": 14
        }
      ]
    },
    {
      "cell_type": "code",
      "metadata": {
        "collapsed": true,
        "id": "LKzxZziwS5d0"
      },
      "source": [
        ""
      ],
      "execution_count": null,
      "outputs": []
    },
    {
      "cell_type": "markdown",
      "metadata": {
        "id": "NaaSsTGBS5d1"
      },
      "source": [
        "### 2. Número de países distintos en cada dataset. Coinciden?"
      ]
    },
    {
      "cell_type": "code",
      "metadata": {
        "id": "WPQ97N0jGOzI",
        "colab": {
          "base_uri": "https://localhost:8080/"
        },
        "outputId": "7904c1fa-349f-4a67-a6b6-71b24ba996f5"
      },
      "source": [
        "paises_desarrollo = desarrollo_parseado\\\n",
        ".map(lambda x: (x[0],1)) #selecionamos el nombre del pais y un uno por cada vez que esté el pais\n",
        "\n",
        "paises_desarrollo.count() "
      ],
      "execution_count": null,
      "outputs": [
        {
          "output_type": "execute_result",
          "data": {
            "text/plain": [
              "134"
            ]
          },
          "metadata": {
            "tags": []
          },
          "execution_count": 41
        }
      ]
    },
    {
      "cell_type": "code",
      "metadata": {
        "scrolled": true,
        "colab": {
          "base_uri": "https://localhost:8080/"
        },
        "id": "pns-XQP1S5d1",
        "outputId": "25080778-c1c6-4b51-fbcf-95c1b5e31d3a"
      },
      "source": [
        "paises_desarrollo = paises_desarrollo\\\r\n",
        ".reduceByKey(lambda a, b: a + b) #paises en el data set de desarrollo\r\n",
        "\r\n",
        "\r\n",
        "paises_desarrollo.collect()"
      ],
      "execution_count": null,
      "outputs": [
        {
          "output_type": "execute_result",
          "data": {
            "text/plain": [
              "[('Albania', 3),\n",
              " ('Australia', 3),\n",
              " ('\"Bahamas, The\"', 3),\n",
              " ('Barbados', 2),\n",
              " ('Belize', 1),\n",
              " ('Bhutan', 3),\n",
              " ('Botswana', 3),\n",
              " ('Brazil', 3),\n",
              " ('El Salvador', 3),\n",
              " ('Guatemala', 3),\n",
              " ('Hungary', 3),\n",
              " ('Ireland', 3),\n",
              " ('Kazakhstan', 3),\n",
              " ('\"Korea, Rep.\"', 3),\n",
              " ('Kyrgyz Republic', 3),\n",
              " ('Malawi', 4),\n",
              " ('Palau', 3),\n",
              " ('Peru', 3),\n",
              " ('Philippines', 1),\n",
              " ('Russian Federation', 3),\n",
              " ('Solomon Islands', 3),\n",
              " ('St. Kitts and Nevis', 1),\n",
              " ('St. Vincent and the Grenadines', 1),\n",
              " ('Switzerland', 3),\n",
              " ('Thailand', 2),\n",
              " ('Ukraine', 3),\n",
              " ('United States', 3),\n",
              " ('Uruguay', 3),\n",
              " ('Zambia', 2),\n",
              " ('Belarus', 3),\n",
              " ('Colombia', 3),\n",
              " ('Georgia', 3),\n",
              " ('Indonesia', 3),\n",
              " ('Jamaica', 3),\n",
              " ('Japan', 3),\n",
              " ('Jordan', 2),\n",
              " ('Malaysia', 3),\n",
              " ('\"Micronesia, Fed. Sts.\"', 3),\n",
              " ('Moldova', 3),\n",
              " ('Namibia', 1),\n",
              " ('New Zealand', 3),\n",
              " ('Papua New Guinea', 2),\n",
              " ('San Marino', 2),\n",
              " ('Seychelles', 2),\n",
              " ('Singapore', 3),\n",
              " ('Spain', 3),\n",
              " ('Sri Lanka', 2),\n",
              " ('St. Lucia', 1),\n",
              " ('Tonga', 3),\n",
              " ('Turkey', 3),\n",
              " ('United Kingdom', 3)]"
            ]
          },
          "metadata": {
            "tags": []
          },
          "execution_count": 44
        }
      ]
    },
    {
      "cell_type": "code",
      "metadata": {
        "id": "r4A-yZ98Hf-Q"
      },
      "source": [
        "paises_deuda = deuda_parseado\\\n",
        ".map(lambda x: (x[0],1))\\\n",
        ".reduceByKey(lambda a, b: a + b) #paises en el data set de deuda y las veces repetido"
      ],
      "execution_count": null,
      "outputs": []
    },
    {
      "cell_type": "code",
      "metadata": {
        "id": "gqBU-Bat8Ytz",
        "colab": {
          "base_uri": "https://localhost:8080/"
        },
        "outputId": "0fe1c824-71ad-4ce2-aa28-b5eb97d6abf2"
      },
      "source": [
        "paises_deuda.collect()"
      ],
      "execution_count": null,
      "outputs": [
        {
          "output_type": "execute_result",
          "data": {
            "text/plain": [
              "[('Albania', 1),\n",
              " ('Algeria', 1),\n",
              " ('Angola', 1),\n",
              " ('Belize', 1),\n",
              " ('Bhutan', 1),\n",
              " ('Botswana', 1),\n",
              " ('Brazil', 1),\n",
              " ('Cabo Verde', 1),\n",
              " ('Cambodia', 1),\n",
              " ('China', 1),\n",
              " ('Congo Dem. Rep.', 1),\n",
              " ('Congo Rep.', 1),\n",
              " ('Costa Rica', 1),\n",
              " (\"Cote d'Ivoire\", 1),\n",
              " ('Ecuador', 1),\n",
              " ('Egypt Arab Rep.', 1),\n",
              " ('El Salvador', 1),\n",
              " ('Eritrea', 1),\n",
              " ('Ethiopia', 1),\n",
              " ('Fiji', 1),\n",
              " ('Gabon', 1),\n",
              " ('Gambia The', 1),\n",
              " ('Ghana', 1),\n",
              " ('Guatemala', 1),\n",
              " ('Guinea-Bissau', 1),\n",
              " ('Honduras', 1),\n",
              " ('India', 1),\n",
              " ('Iran Islamic Rep.', 1),\n",
              " ('Kazakhstan', 1),\n",
              " ('Kenya', 1),\n",
              " ('Kosovo', 1),\n",
              " ('Kyrgyz Republic', 1),\n",
              " ('Least developed countries: UN classification', 1),\n",
              " ('Lebanon', 1),\n",
              " ('Liberia', 1),\n",
              " ('Macedonia FYR', 1),\n",
              " ('Malawi', 1),\n",
              " ('Maldives', 1),\n",
              " ('Mauritania', 1),\n",
              " ('Mauritius', 1),\n",
              " ('Mexico', 1),\n",
              " ('Montenegro', 1),\n",
              " ('Mozambique', 1),\n",
              " ('Myanmar', 1),\n",
              " ('Nepal', 1),\n",
              " ('Nigeria', 1),\n",
              " ('Pakistan', 1),\n",
              " ('Paraguay', 1),\n",
              " ('Peru', 1),\n",
              " ('Philippines', 1),\n",
              " ('Russian Federation', 1),\n",
              " ('Solomon Islands', 1),\n",
              " ('Somalia', 1),\n",
              " ('South Africa', 1),\n",
              " ('St. Vincent and the Grenadines', 1),\n",
              " ('Syrian Arab Republic', 1),\n",
              " ('Tanzania', 1),\n",
              " ('Thailand', 1),\n",
              " ('Timor-Leste', 1),\n",
              " ('Togo', 1),\n",
              " ('Tunisia', 1),\n",
              " ('Turkmenistan', 1),\n",
              " ('Ukraine', 1),\n",
              " ('Uzbekistan', 1),\n",
              " ('Venezuela RB', 1),\n",
              " ('Vietnam', 1),\n",
              " ('Yemen Rep.', 1),\n",
              " ('Zambia', 1),\n",
              " ('Afghanistan', 1),\n",
              " ('Armenia', 1),\n",
              " ('Azerbaijan', 1),\n",
              " ('Bangladesh', 1),\n",
              " ('Belarus', 1),\n",
              " ('Benin', 1),\n",
              " ('Bolivia', 1),\n",
              " ('Bosnia and Herzegovina', 1),\n",
              " ('Bulgaria', 1),\n",
              " ('Burkina Faso', 1),\n",
              " ('Burundi', 1),\n",
              " ('Cameroon', 1),\n",
              " ('Central African Republic', 1),\n",
              " ('Chad', 1),\n",
              " ('Colombia', 1),\n",
              " ('Comoros', 1),\n",
              " ('Djibouti', 1),\n",
              " ('Dominica', 1),\n",
              " ('Dominican Republic', 1),\n",
              " ('Eswatini', 1),\n",
              " ('Georgia', 1),\n",
              " ('Grenada', 1),\n",
              " ('Guinea', 1),\n",
              " ('Guyana', 1),\n",
              " ('Haiti', 1),\n",
              " ('IDA only', 1),\n",
              " ('Indonesia', 1),\n",
              " ('Jamaica', 1),\n",
              " ('Jordan', 1),\n",
              " ('Lao PDR', 1),\n",
              " ('Lesotho', 1),\n",
              " ('Madagascar', 1),\n",
              " ('Mali', 1),\n",
              " ('Moldova', 1),\n",
              " ('Mongolia', 1),\n",
              " ('Morocco', 1),\n",
              " ('Nicaragua', 1),\n",
              " ('Niger', 1),\n",
              " ('Papua New Guinea', 1),\n",
              " ('Romania', 1),\n",
              " ('Rwanda', 1),\n",
              " ('Samoa', 1),\n",
              " ('Sao Tome and Principe', 1),\n",
              " ('Senegal', 1),\n",
              " ('Serbia', 1),\n",
              " ('Sierra Leone', 1),\n",
              " ('South Asia', 1),\n",
              " ('Sri Lanka', 1),\n",
              " ('St. Lucia', 1),\n",
              " ('Sudan', 1),\n",
              " ('Tajikistan', 1),\n",
              " ('Tonga', 1),\n",
              " ('Turkey', 1),\n",
              " ('Uganda', 1),\n",
              " ('Vanuatu', 1),\n",
              " ('Zimbabwe', 1)]"
            ]
          },
          "metadata": {
            "tags": []
          },
          "execution_count": 48
        }
      ]
    },
    {
      "cell_type": "code",
      "metadata": {
        "colab": {
          "base_uri": "https://localhost:8080/"
        },
        "id": "JGtTwMkp_G8R",
        "outputId": "f60de913-9572-44da-b3db-5282ad3e37ad"
      },
      "source": [
        "# join para saber los paises comunes. En la deuda solo se repiten una vez\r\n",
        "\r\n",
        "paises_coinciden = paises_desarrollo.join(paises_deuda)\r\n",
        "paises_coinciden.collect()"
      ],
      "execution_count": null,
      "outputs": [
        {
          "output_type": "execute_result",
          "data": {
            "text/plain": [
              "[('Albania', (3, 1)),\n",
              " ('Belize', (1, 1)),\n",
              " ('Bhutan', (3, 1)),\n",
              " ('Botswana', (3, 1)),\n",
              " ('Brazil', (3, 1)),\n",
              " ('El Salvador', (3, 1)),\n",
              " ('Guatemala', (3, 1)),\n",
              " ('Kazakhstan', (3, 1)),\n",
              " ('Kyrgyz Republic', (3, 1)),\n",
              " ('Malawi', (4, 1)),\n",
              " ('Peru', (3, 1)),\n",
              " ('Philippines', (1, 1)),\n",
              " ('Russian Federation', (3, 1)),\n",
              " ('Solomon Islands', (3, 1)),\n",
              " ('St. Vincent and the Grenadines', (1, 1)),\n",
              " ('Thailand', (2, 1)),\n",
              " ('Ukraine', (3, 1)),\n",
              " ('Zambia', (2, 1)),\n",
              " ('Belarus', (3, 1)),\n",
              " ('Colombia', (3, 1)),\n",
              " ('Georgia', (3, 1)),\n",
              " ('Indonesia', (3, 1)),\n",
              " ('Jamaica', (3, 1)),\n",
              " ('Jordan', (2, 1)),\n",
              " ('Moldova', (3, 1)),\n",
              " ('Papua New Guinea', (2, 1)),\n",
              " ('Sri Lanka', (2, 1)),\n",
              " ('St. Lucia', (1, 1)),\n",
              " ('Tonga', (3, 1)),\n",
              " ('Turkey', (3, 1))]"
            ]
          },
          "metadata": {
            "tags": []
          },
          "execution_count": 50
        }
      ]
    },
    {
      "cell_type": "markdown",
      "metadata": {
        "id": "aFtnqkEbU5h0"
      },
      "source": [
        "\n",
        "### 3. Total de deuda contraida por cada pais: total amount of debt (in USD) DT.AMT.MLAT.CD"
      ]
    },
    {
      "cell_type": "code",
      "metadata": {
        "id": "0rv4WFwoS5d2"
      },
      "source": [
        "# filtramos nulos\r\n",
        "# elegimos pais y columna correspondiente a al variable\r\n",
        "\r\n",
        "total_amount_of_debt = deuda_parseado\\\r\n",
        ".filter(lambda x: x[2] is not '')\\\r\n",
        ".map(lambda x: (x[0],float(x[2]))) "
      ],
      "execution_count": null,
      "outputs": []
    },
    {
      "cell_type": "code",
      "metadata": {
        "colab": {
          "base_uri": "https://localhost:8080/"
        },
        "id": "_82fwwotXTQ2",
        "outputId": "74dbafa6-be2f-4ac2-af20-101e673d844f"
      },
      "source": [
        "total_amount_of_debt.collect()"
      ],
      "execution_count": null,
      "outputs": [
        {
          "output_type": "execute_result",
          "data": {
            "text/plain": [
              "[('Afghanistan', 61739336.9),\n",
              " ('Albania', 54250280.6),\n",
              " ('Algeria', 95188724.6),\n",
              " ('Angola', 8473824016.3),\n",
              " ('Armenia', 68968314.7),\n",
              " ('Azerbaijan', 106369937.0),\n",
              " ('Bangladesh', 386702219.8),\n",
              " ('Belarus', 1487363278.5),\n",
              " ('Belize', 23329498.4),\n",
              " ('Benin', 26014505.8),\n",
              " ('Bhutan', 189877869.8),\n",
              " ('Bolivia', 67814879.9),\n",
              " ('Bosnia and Herzegovina', 108704966.2),\n",
              " ('Botswana', 7903563.5),\n",
              " ('Brazil', 2097380010.6),\n",
              " ('Bulgaria', 35764202.8),\n",
              " ('Burkina Faso', 27371336.0),\n",
              " ('Burundi', 10461498.5),\n",
              " ('Cabo Verde', 11767654.3),\n",
              " ('Cambodia', 223300273.6),\n",
              " ('Cameroon', 9999925153.3),\n",
              " ('Central African Republic', 8462062.9),\n",
              " ('Chad', 82357214.9),\n",
              " ('China', 6532446441.9),\n",
              " ('Colombia', 447557894.1),\n",
              " ('Comoros', 2610216.0),\n",
              " ('Congo Dem. Rep.', 116452329.4),\n",
              " ('Congo Rep.', 186071498.1),\n",
              " ('Costa Rica', 34085176.1),\n",
              " (\"Cote d'Ivoire\", 478283000.5),\n",
              " ('Djibouti', 48803279.1),\n",
              " ('Dominica', 8487067.1),\n",
              " ('Dominican Republic', 214014574.6),\n",
              " ('Ecuador', 1177917742.6),\n",
              " ('Egypt Arab Rep.', 6949184320.5),\n",
              " ('El Salvador', 46180727.2),\n",
              " ('Eritrea', 15627602.4),\n",
              " ('Eswatini', 21586421.3),\n",
              " ('Ethiopia', 510741366.9),\n",
              " ('Fiji', 37382876.6),\n",
              " ('Gabon', 114697076.0),\n",
              " ('Gambia The', 13014909.1),\n",
              " ('Georgia', 63831412.1),\n",
              " ('Ghana', 865892038.7),\n",
              " ('Grenada', 11639110.2),\n",
              " ('Guatemala', 41738434.7),\n",
              " ('Guinea', 8832105.1),\n",
              " ('Guinea-Bissau', 70371.9),\n",
              " ('Guyana', 21758525.7),\n",
              " ('Haiti', 51356369.6),\n",
              " ('Honduras', 35890751.9),\n",
              " ('IDA only', 6273480947.8),\n",
              " ('India', 2451995834.5),\n",
              " ('Indonesia', 3233436193.9),\n",
              " ('Iran Islamic Rep.', 18506048.0),\n",
              " ('Jamaica', 93733672.1),\n",
              " ('Jordan', 230204467.2),\n",
              " ('Kazakhstan', 44784496.7),\n",
              " ('Kenya', 515101268.1),\n",
              " ('Kosovo', 5173195.2),\n",
              " ('Kyrgyz Republic', 62213250.6),\n",
              " ('Lao PDR', 346861942.2),\n",
              " ('Least developed countries: UN classification', 12944703036.6),\n",
              " ('Lebanon', 137130312.1),\n",
              " ('Lesotho', 12806231.5),\n",
              " ('Liberia', 602095.8),\n",
              " ('Macedonia FYR', 70570550.3),\n",
              " ('Madagascar', 34102362.9),\n",
              " ('Malawi', 21762541.7),\n",
              " ('Maldives', 48054924.5),\n",
              " ('Mali', 80562273.4),\n",
              " ('Mauritania', 197041185.1),\n",
              " ('Mauritius', 113174983.3),\n",
              " ('Mexico', 382457219.1),\n",
              " ('Moldova', 52456210.6),\n",
              " ('Mongolia', 52159543.5),\n",
              " ('Montenegro', 127450152.9),\n",
              " ('Morocco', 742287180.6),\n",
              " ('Mozambique', 307444585.4),\n",
              " ('Myanmar', 519713545.7),\n",
              " ('Nepal', 48512381.5),\n",
              " ('Nicaragua', 33414678.5),\n",
              " ('Niger', 38815599.9),\n",
              " ('Nigeria', 86761615.4),\n",
              " ('Pakistan', 2175483884.5),\n",
              " ('Papua New Guinea', 30768505.2),\n",
              " ('Paraguay', 58314162.7),\n",
              " ('Peru', 114574694.7),\n",
              " ('Philippines', 670475417.9),\n",
              " ('Romania', 46961486.3),\n",
              " ('Russian Federation', 69924222.2),\n",
              " ('Rwanda', 8604526.0),\n",
              " ('Samoa', 11727921.8),\n",
              " ('Sao Tome and Principe', 522448.7),\n",
              " ('Senegal', 132241030.2),\n",
              " ('Serbia', 328727524.6),\n",
              " ('Sierra Leone', 8755657.7),\n",
              " ('Solomon Islands', 1207375.0),\n",
              " ('Somalia', 8301771.4),\n",
              " ('South Asia', 6437804448.1),\n",
              " ('Sri Lanka', 1075437996.6),\n",
              " ('St. Lucia', 5113457.5),\n",
              " ('St. Vincent and the Grenadines', 3070092.3),\n",
              " ('Sudan', 262918897.8),\n",
              " ('Syrian Arab Republic', 159358328.9),\n",
              " ('Tajikistan', 73281257.2),\n",
              " ('Tanzania', 194944695.3),\n",
              " ('Thailand', 277799616.8),\n",
              " ('Togo', 25160550.3),\n",
              " ('Tonga', 7554054.0),\n",
              " ('Tunisia', 507052864.2),\n",
              " ('Turkey', 646463879.8),\n",
              " ('Turkmenistan', 14046164.6),\n",
              " ('Uganda', 64110341.2),\n",
              " ('Ukraine', 95941219.4),\n",
              " ('Uzbekistan', 273378640.0),\n",
              " ('Vanuatu', 10956691.0),\n",
              " ('Venezuela RB', 106054401.7),\n",
              " ('Vietnam', 1561158600.3),\n",
              " ('Yemen Rep.', 150087048.6),\n",
              " ('Zambia', 211048374.3),\n",
              " ('Zimbabwe', 71794214.8)]"
            ]
          },
          "metadata": {
            "tags": []
          },
          "execution_count": 67
        }
      ]
    },
    {
      "cell_type": "code",
      "metadata": {
        "id": "C-cLmVfDXTbE"
      },
      "source": [
        ""
      ],
      "execution_count": null,
      "outputs": []
    },
    {
      "cell_type": "markdown",
      "metadata": {
        "id": "oUwFK4WAU5h0"
      },
      "source": [
        "## 4. Media de los indicadores de deuda (tabla uno): DT.AMT.BLAT.CD, DT.DIS.BLAT.CD, DT.INT.BLAT.CD"
      ]
    },
    {
      "cell_type": "markdown",
      "metadata": {
        "id": "1_OjSmU3g4wP"
      },
      "source": [
        "### DT.AMT.BLAT.CD"
      ]
    },
    {
      "cell_type": "code",
      "metadata": {
        "id": "lMsjIjqYff22"
      },
      "source": [
        "#Denominador de la media\r\n",
        "\r\n",
        "observaciones_DTAMTBLATCD = deuda_parseado\\\r\n",
        ".filter(lambda x: x[2] is not '') #filtro nulos\r\n",
        "\r\n",
        "N = observaciones_DTAMTBLATCD.count() #N"
      ],
      "execution_count": null,
      "outputs": []
    },
    {
      "cell_type": "code",
      "metadata": {
        "collapsed": true,
        "colab": {
          "base_uri": "https://localhost:8080/"
        },
        "id": "WSEOxJb0S5d3",
        "outputId": "64b8b1fc-c1ca-4c75-a933-d04de1b5217a"
      },
      "source": [
        "#Numerador de la media\r\n",
        "\r\n",
        "# division de x entre N\r\n",
        "# sumo cada x/N\r\n",
        "\r\n",
        "media_DTAMTBLATCD = observaciones_DTAMTBLATCD\\\r\n",
        ".map(lambda x: float(x[2])/N)\\\r\n",
        ".reduce(lambda x, y: x + y) \r\n",
        "\r\n",
        "# RESULTADO\r\n",
        "print(\"Media del indicador de deuda DT.AMT.BLAT.CD:\" , media_DTAMTBLATCD)"
      ],
      "execution_count": null,
      "outputs": [
        {
          "output_type": "stream",
          "text": [
            "Media del indicador de deuda DT.AMT.BLAT.CD: 712619634.659836\n"
          ],
          "name": "stdout"
        }
      ]
    },
    {
      "cell_type": "markdown",
      "metadata": {
        "id": "VgCqQpjMg-A_"
      },
      "source": [
        " ### DT.DIS.BLAT.CD"
      ]
    },
    {
      "cell_type": "code",
      "metadata": {
        "id": "l6_w_7D3Yqwu"
      },
      "source": [
        "#Denominador de la media\r\n",
        "\r\n",
        "observaciones_DTDISBLATCD = deuda_parseado\\\r\n",
        ".filter(lambda x: x[11] is not '')\r\n",
        "N = observaciones_DTDISBLATCD.count()"
      ],
      "execution_count": null,
      "outputs": []
    },
    {
      "cell_type": "code",
      "metadata": {
        "colab": {
          "base_uri": "https://localhost:8080/"
        },
        "id": "H34JenmmfQWA",
        "outputId": "913da081-3408-4c65-9e83-d863b9b2ffaa"
      },
      "source": [
        "#Numerador de la media\r\n",
        "\r\n",
        "# division de x entre N\r\n",
        "# sumo cada x/N\r\n",
        "\r\n",
        "media_DTDISBLATCD = observaciones_DTDISBLATCD\\\r\n",
        ".map(lambda x: float(x[11])/N)\\\r\n",
        ".reduce(lambda x, y: x + y)\r\n",
        "\r\n",
        "# RESULTADO\r\n",
        "print(\"Media del indicador de deuda  DT.DIS.BLAT.CD:\" , media_DTDISBLATCD)"
      ],
      "execution_count": null,
      "outputs": [
        {
          "output_type": "stream",
          "text": [
            "Media del indicador de deuda  DT.DIS.BLAT.CD: 1223139290.39823\n"
          ],
          "name": "stdout"
        }
      ]
    },
    {
      "cell_type": "markdown",
      "metadata": {
        "id": "5MIp6LfU0Xjy"
      },
      "source": [
        " ### DT.INT.BLAT.CD"
      ]
    },
    {
      "cell_type": "code",
      "metadata": {
        "id": "li0bhxRHhAjN"
      },
      "source": [
        "#Denominador de la media\r\n",
        "\r\n",
        "observaciones_DTINTBLATCD = deuda_parseado.filter(lambda x: x[18] is not '')\r\n",
        "N = observaciones_DTINTBLATCD.count()"
      ],
      "execution_count": null,
      "outputs": []
    },
    {
      "cell_type": "code",
      "metadata": {
        "colab": {
          "base_uri": "https://localhost:8080/"
        },
        "id": "KhzjeTmOhAmU",
        "outputId": "b50be304-79f4-4fb3-e90f-06776754884e"
      },
      "source": [
        "#Numerador de la media\r\n",
        "\r\n",
        "# division de x entre N\r\n",
        "# sumo cada x/N\r\n",
        "\r\n",
        "media_DTINTBLATCD = observaciones_DTINTBLATCD.map(lambda x: float(x[18])/N).reduce(lambda x, y: x + y)\r\n",
        "\r\n",
        "# RESULTADO\r\n",
        "\r\n",
        "print(\"Media del indicador de deuda  DT.INT.BLAT.CD:\" , media_DTINTBLATCD)"
      ],
      "execution_count": null,
      "outputs": [
        {
          "output_type": "stream",
          "text": [
            "Media del indicador de deuda  DT.INT.BLAT.CD: 164093285.6090164\n"
          ],
          "name": "stdout"
        }
      ]
    },
    {
      "cell_type": "markdown",
      "metadata": {
        "id": "ror9dIV8U5h0"
      },
      "source": [
        "## 5. Los 20 paises con DT.AMT.DLXF.CD más alto"
      ]
    },
    {
      "cell_type": "code",
      "metadata": {
        "collapsed": true,
        "id": "YJ0ysTT6S5d4"
      },
      "source": [
        "# filtro nulos\r\n",
        "#seleciono columna y nombre pais\r\n",
        "#ordeno por valor de la variable númerica como key\r\n",
        "# cogemos las 20 primeras\r\n",
        "\r\n",
        "\r\n",
        "top_20_DT_AMT_DLXF_CD = deuda_parseado\\\r\n",
        ".filter(lambda x: x[3] is not '')\\\r\n",
        ".map(lambda x: (float(x[3]),x[0]))\\\r\n",
        ".sortByKey(False)\\\r\n",
        ".take(20)"
      ],
      "execution_count": null,
      "outputs": []
    },
    {
      "cell_type": "code",
      "metadata": {
        "colab": {
          "base_uri": "https://localhost:8080/"
        },
        "id": "y_3sYY2e1YDX",
        "outputId": "ef44e592-7ac5-4c90-e597-0f640739cfec"
      },
      "source": [
        "# RESULTADO\r\n",
        "\r\n",
        "top_20_DT_AMT_DLXF_CD"
      ],
      "execution_count": null,
      "outputs": [
        {
          "output_type": "execute_result",
          "data": {
            "text/plain": [
              "[(96218620835.7, 'China'),\n",
              " (90041840304.1, 'Brazil'),\n",
              " (66589761833.5, 'Russian Federation'),\n",
              " (51555031005.8, 'Turkey'),\n",
              " (48756295898.2, 'South Asia'),\n",
              " (31923507000.8, 'India'),\n",
              " (30916112653.8, 'Indonesia'),\n",
              " (27482093686.4, 'Kazakhstan'),\n",
              " (25218503927.0, 'Mexico'),\n",
              " (25197029299.4, 'Least developed countries: UN classification'),\n",
              " (20483289208.0, 'IDA only'),\n",
              " (14013783350.4, 'Romania'),\n",
              " (11985674438.7, 'Colombia'),\n",
              " (11067045628.1, 'Angola'),\n",
              " (10404814960.2, 'Cameroon'),\n",
              " (9878659207.2, 'Venezuela RB'),\n",
              " (9692114176.9, 'Egypt Arab Rep.'),\n",
              " (9506919669.6, 'Lebanon'),\n",
              " (9474257551.9, 'South Africa'),\n",
              " (8873505909.2, 'Vietnam')]"
            ]
          },
          "metadata": {
            "tags": []
          },
          "execution_count": 84
        }
      ]
    },
    {
      "cell_type": "code",
      "metadata": {
        "id": "Qqb4Ssdp1YLq"
      },
      "source": [
        ""
      ],
      "execution_count": null,
      "outputs": []
    },
    {
      "cell_type": "markdown",
      "metadata": {
        "id": "chVzCQWVU5h1"
      },
      "source": [
        "## 6. Pais con los datos informados todos los años."
      ]
    },
    {
      "cell_type": "code",
      "metadata": {
        "colab": {
          "base_uri": "https://localhost:8080/"
        },
        "id": "Pz6MliY2EgTV",
        "outputId": "c4669f9e-7511-4227-b3f3-3807b07277ee"
      },
      "source": [
        "numero_años = desarrollo_parseado\\\r\n",
        ".map(lambda x: x[2])\\\r\n",
        ".distinct() # devuelve cada valor diferente\r\n",
        "\r\n",
        "print(\"Hay\", numero_años.count(), \" diferentes años y son \", numero_años.collect())"
      ],
      "execution_count": null,
      "outputs": [
        {
          "output_type": "stream",
          "text": [
            "Hay 4  diferentes años y son  ['2014', '2015', '2016', '2017']\n"
          ],
          "name": "stdout"
        }
      ]
    },
    {
      "cell_type": "code",
      "metadata": {
        "id": "90MJcpsEFkes"
      },
      "source": [
        "datos_años_pais = desarrollo_parseado.map(lambda x: (x[0],1))\\ # paises y un 1 para contar\r\n",
        ".reduceByKey(lambda x,y: x+y)\\  # suma de las veces que aparecen\r\n",
        ".filter(lambda x: x[1]==4)  # filtro para 4 años (máximo)"
      ],
      "execution_count": null,
      "outputs": []
    },
    {
      "cell_type": "code",
      "metadata": {
        "colab": {
          "base_uri": "https://localhost:8080/"
        },
        "id": "N4fWnr_ODkgn",
        "outputId": "a733be6b-8ca9-4dc9-9110-9c871bc87540"
      },
      "source": [
        "# RESULTADO\r\n",
        "\r\n",
        "datos_años_pais.collect() #pais con todos los años"
      ],
      "execution_count": null,
      "outputs": [
        {
          "output_type": "execute_result",
          "data": {
            "text/plain": [
              "[('Malawi', 4)]"
            ]
          },
          "metadata": {
            "tags": []
          },
          "execution_count": 92
        }
      ]
    },
    {
      "cell_type": "code",
      "metadata": {
        "id": "zWj2_XToF0u8"
      },
      "source": [
        ""
      ],
      "execution_count": null,
      "outputs": []
    },
    {
      "cell_type": "markdown",
      "metadata": {
        "id": "KFGpClTRU5h1"
      },
      "source": [
        "## 7. Media anual de los distintos indicadores de desarrollo"
      ]
    },
    {
      "cell_type": "markdown",
      "metadata": {
        "id": "mlE2dy3MS5d4"
      },
      "source": [
        "#### \"Central government debt, total (current LCU)\",GC.DOD.TOTL.CN"
      ]
    },
    {
      "cell_type": "code",
      "metadata": {
        "colab": {
          "base_uri": "https://localhost:8080/"
        },
        "id": "MafxgJq6S5d5",
        "outputId": "482d3070-4f7a-4efd-d165-c9d0ae0e5d85"
      },
      "source": [
        "# extragio pais y columna a estudiar\n",
        "\n",
        "media_indicadores_governmentdebt_0_1 = desarrollo_parseado\\\n",
        ".map(lambda x: (x[2], float(x[3])))\\\n",
        ".reduceByKey(lambda a, b: a + b)\n",
        "\n",
        "media_indicadores_governmentdebt_1_1 = desarrollo_parseado\\\n",
        ".map(lambda x: (x[2],1))\\\n",
        ".reduceByKey(lambda x,y: x + y)\n",
        "\n",
        "\n",
        "\n",
        "media_indicadores_governmentdebt_2 = media_indicadores_governmentdebt_0_1\\\n",
        ".join(media_indicadores_governmentdebt_1_1)\n",
        "\n",
        "media_indicadores_governmentdebt = media_indicadores_governmentdebt_2\\\n",
        ".map(lambda x: (x[0], x[1][0]/x[1][1]))\\\n",
        ".sortByKey()\\\n",
        ".collect()\n",
        "\n",
        "# RESULTADO\n",
        "\n",
        "media_indicadores_governmentdebt\n"
      ],
      "execution_count": null,
      "outputs": [
        {
          "output_type": "execute_result",
          "data": {
            "text/plain": [
              "[('2014', 103442758732953.23),\n",
              " ('2015', 131824403915902.5),\n",
              " ('2016', 158813821548065.94),\n",
              " ('2017', 2239858619962.69)]"
            ]
          },
          "metadata": {
            "tags": []
          },
          "execution_count": 99
        }
      ]
    },
    {
      "cell_type": "code",
      "metadata": {
        "collapsed": true,
        "id": "xSSpch9fS5d6"
      },
      "source": [
        ""
      ],
      "execution_count": null,
      "outputs": []
    },
    {
      "cell_type": "markdown",
      "metadata": {
        "id": "Cj4XTbZ9MjKk"
      },
      "source": [
        "#### Birth rate, crude (per 1,000 people),SP.DYN.CBRT.IN"
      ]
    },
    {
      "cell_type": "code",
      "metadata": {
        "colab": {
          "base_uri": "https://localhost:8080/"
        },
        "id": "ggDfmzfSS5d6",
        "outputId": "2c79f406-4f8f-4354-cbf5-9610571b9bc0"
      },
      "source": [
        "# extragio pais y columna a estudiar\r\n",
        "\r\n",
        "media_indicadores_birthrate_0_1 = desarrollo_parseado\\\r\n",
        ".map(lambda x: (x[2], float(x[5])))\\       \r\n",
        ".reduceByKey(lambda a, b: a + b)\r\n",
        "\r\n",
        "#pais y numero de veces que aparece el pais en el data set\r\n",
        "\r\n",
        "media_indicadores_birthrate_1_1 = desarrollo_parseado\\\r\n",
        ".map(lambda x: (x[2],1))\\\r\n",
        ".reduceByKey(lambda x,y: x + y)\r\n",
        "\r\n",
        "# join para juntar ambos RDD\r\n",
        "media_indicadores_birthrate_2 = media_indicadores_birthrate_0_1\\\r\n",
        ".join(media_indicadores_birthrate_1_1)\r\n",
        "\r\n",
        "media_indicadores_birthrate = media_indicadores_birthrate_2\\\r\n",
        ".map(lambda x: (x[0], x[1][0]/x[1][1]))\\\r\n",
        ".sortByKey()\\\r\n",
        ".collect()\r\n",
        "\r\n",
        "media_indicadores_birthrate"
      ],
      "execution_count": null,
      "outputs": [
        {
          "output_type": "execute_result",
          "data": {
            "text/plain": [
              "[('2014', 17.582620000000006),\n",
              " ('2015', 16.798477272727272),\n",
              " ('2016', 16.144333333333332),\n",
              " ('2017', 34.593)]"
            ]
          },
          "metadata": {
            "tags": []
          },
          "execution_count": 100
        }
      ]
    },
    {
      "cell_type": "code",
      "metadata": {
        "id": "YjpAI6svMoLE"
      },
      "source": [
        ""
      ],
      "execution_count": null,
      "outputs": []
    },
    {
      "cell_type": "markdown",
      "metadata": {
        "id": "WWGZu7U9N9on"
      },
      "source": [
        "#### Central government debt, total (% of GDP),GC.DOD.TOTL.GD.ZS"
      ]
    },
    {
      "cell_type": "code",
      "metadata": {
        "colab": {
          "base_uri": "https://localhost:8080/"
        },
        "id": "mGFeENEPMoNl",
        "outputId": "d08b6366-8175-4879-8ff5-add75abb5a4a"
      },
      "source": [
        "# extragio pais y columna a estudiar\r\n",
        "\r\n",
        "media_indicadores_governmentdebt_percent_0_1 = desarrollo_parseado\\\r\n",
        ".map(lambda x: (x[2], float(x[4])))\\\r\n",
        ".reduceByKey(lambda a, b: a + b)\r\n",
        "\r\n",
        "#pais y numero de veces que aparece el pais en el data set\r\n",
        "\r\n",
        "media_indicadores_governmentdebt_percent_1_1 = desarrollo_parseado\\\r\n",
        ".map(lambda x: (x[2],1))\\\r\n",
        ".reduceByKey(lambda x,y: x + y)\r\n",
        "\r\n",
        "# join para juntar ambos RDD\r\n",
        "\r\n",
        "media_indicadores_governmentdebt_percent_2 = media_indicadores_governmentdebt_percent_0_1.join(media_indicadores_governmentdebt_percent_1_1)\r\n",
        "\r\n",
        "media_indicadores_governmentdebt_percent = media_indicadores_governmentdebt_percent_2\\\r\n",
        ".map(lambda x: (x[0], x[1][0]/x[1][1]))\\\r\n",
        ".sortByKey().collect()\r\n",
        "\r\n",
        "\r\n",
        "# RESULTADO\r\n",
        "\r\n",
        "media_indicadores_governmentdebt_percent"
      ],
      "execution_count": null,
      "outputs": [
        {
          "output_type": "execute_result",
          "data": {
            "text/plain": [
              "[('2014', 56.843914344384395),\n",
              " ('2015', 58.36559834488034),\n",
              " ('2016', 58.796949624008356),\n",
              " ('2017', 48.659564238322)]"
            ]
          },
          "metadata": {
            "tags": []
          },
          "execution_count": 39
        }
      ]
    },
    {
      "cell_type": "code",
      "metadata": {
        "collapsed": true,
        "id": "38C6s0-5S5d7"
      },
      "source": [
        " "
      ],
      "execution_count": null,
      "outputs": []
    },
    {
      "cell_type": "markdown",
      "metadata": {
        "id": "SEBZLcVhP-Mv"
      },
      "source": [
        "### 8. Podrías decirme el total de deuda acumulada DT.AMT.MLAT.CD por los 10 países con un valor en media menor de SP.DYN.CBRT.IN"
      ]
    },
    {
      "cell_type": "code",
      "metadata": {
        "id": "37NlBIQ9WDG6",
        "colab": {
          "base_uri": "https://localhost:8080/"
        },
        "outputId": "621121d5-e0a9-4538-953d-7aef7d0914b5"
      },
      "source": [
        "desarrollo_parseado_0 = desarrollo_parseado.map(lambda x: (x[0], float(x[5]))).reduceByKey(lambda a, b: a + b)  # sumamos indicador por cada pais\r\n",
        "desarrollo_parseado_0.take(5)"
      ],
      "execution_count": null,
      "outputs": [
        {
          "output_type": "execute_result",
          "data": {
            "text/plain": [
              "[('Albania', 36.536),\n",
              " ('Australia', 39.0),\n",
              " ('\"Bahamas, The\"', 42.695),\n",
              " ('Barbados', 21.722),\n",
              " ('Belize', 22.067)]"
            ]
          },
          "metadata": {
            "tags": []
          },
          "execution_count": 23
        }
      ]
    },
    {
      "cell_type": "code",
      "metadata": {
        "colab": {
          "base_uri": "https://localhost:8080/"
        },
        "id": "m7UegnGin3Yq",
        "outputId": "aa34d65e-b7fe-494c-bed9-52a36a33273e"
      },
      "source": [
        "desarrollo_parseado_1 = desarrollo_parseado.map(lambda x: (x[0],1)).reduceByKey(lambda a, b: a + b) #pais y numero de veces que aparece el pais en el data set\r\n",
        "desarrollo_parseado_1.take(5)"
      ],
      "execution_count": null,
      "outputs": [
        {
          "output_type": "execute_result",
          "data": {
            "text/plain": [
              "[('Albania', 3),\n",
              " ('Australia', 3),\n",
              " ('\"Bahamas, The\"', 3),\n",
              " ('Barbados', 2),\n",
              " ('Belize', 1)]"
            ]
          },
          "metadata": {
            "tags": []
          },
          "execution_count": 27
        }
      ]
    },
    {
      "cell_type": "code",
      "metadata": {
        "colab": {
          "base_uri": "https://localhost:8080/"
        },
        "id": "lX7EhSDJn3mi",
        "outputId": "c8aeb5e6-fb42-40db-bf88-9bf85f463a72"
      },
      "source": [
        "desarrollo_parseado_2 = desarrollo_parseado_0.join(desarrollo_parseado_1) #join key=pasi, value=(Sumatorio, N)\r\n",
        "desarrollo_parseado_2.take(5)"
      ],
      "execution_count": null,
      "outputs": [
        {
          "output_type": "execute_result",
          "data": {
            "text/plain": [
              "[('Albania', (36.536, 3)),\n",
              " ('Australia', (39.0, 3)),\n",
              " ('\"Bahamas, The\"', (42.695, 3)),\n",
              " ('Barbados', (21.722, 2)),\n",
              " ('Belize', (22.067, 1))]"
            ]
          },
          "metadata": {
            "tags": []
          },
          "execution_count": 28
        }
      ]
    },
    {
      "cell_type": "code",
      "metadata": {
        "colab": {
          "base_uri": "https://localhost:8080/"
        },
        "id": "iK0IAfmppZ-h",
        "outputId": "7876f0c1-44f1-4e30-a265-998e35bad26b"
      },
      "source": [
        "desarrollo_parseado_3 = desarrollo_parseado_2.map(lambda x:  (x[1][0]/x[1][1], x[0])).sortByKey() # media\r\n",
        "desarrollo_parseado_3.take(5)"
      ],
      "execution_count": null,
      "outputs": [
        {
          "output_type": "execute_result",
          "data": {
            "text/plain": [
              "[(7.933333333333334, 'Japan'),\n",
              " (8.05, 'San Marino'),\n",
              " (8.366666666666667, '\"Korea, Rep.\"'),\n",
              " (9.0, 'Spain'),\n",
              " (9.533333333333333, 'Hungary')]"
            ]
          },
          "metadata": {
            "tags": []
          },
          "execution_count": 29
        }
      ]
    },
    {
      "cell_type": "code",
      "metadata": {
        "colab": {
          "base_uri": "https://localhost:8080/"
        },
        "id": "86kV8U3-paDD",
        "outputId": "9a92b549-3ed1-4d2c-86d6-76ed0b30745c"
      },
      "source": [
        "desarrollo_parseado_4 = desarrollo_parseado_3.map(lambda x: (x[1], x[0])) # cambio el key/value para poder hacer un join por key\r\n",
        "desarrollo_parseado_4.take(5)"
      ],
      "execution_count": null,
      "outputs": [
        {
          "output_type": "execute_result",
          "data": {
            "text/plain": [
              "[('Japan', 7.933333333333334),\n",
              " ('San Marino', 8.05),\n",
              " ('\"Korea, Rep.\"', 8.366666666666667),\n",
              " ('Spain', 9.0),\n",
              " ('Hungary', 9.533333333333333)]"
            ]
          },
          "metadata": {
            "tags": []
          },
          "execution_count": 30
        }
      ]
    },
    {
      "cell_type": "code",
      "metadata": {
        "id": "hXznl-Rop1hV"
      },
      "source": [
        ""
      ],
      "execution_count": null,
      "outputs": []
    },
    {
      "cell_type": "code",
      "metadata": {
        "colab": {
          "base_uri": "https://localhost:8080/"
        },
        "id": "JlWY8pLqpaGy",
        "outputId": "ee855831-6a05-44e9-ae91-f511702ce51f"
      },
      "source": [
        "desarrollo_parseado_5 = deuda_parseado.filter(lambda x: x[2] is not '').map(lambda x: (x[0],float(x[2])))\r\n",
        "desarrollo_parseado_5.take(5)"
      ],
      "execution_count": null,
      "outputs": [
        {
          "output_type": "execute_result",
          "data": {
            "text/plain": [
              "[('Afghanistan', 61739336.9),\n",
              " ('Albania', 54250280.6),\n",
              " ('Algeria', 95188724.6),\n",
              " ('Angola', 8473824016.3),\n",
              " ('Armenia', 68968314.7)]"
            ]
          },
          "metadata": {
            "tags": []
          },
          "execution_count": 31
        }
      ]
    },
    {
      "cell_type": "code",
      "metadata": {
        "colab": {
          "base_uri": "https://localhost:8080/"
        },
        "id": "EIYflQRVn31H",
        "outputId": "b59b328c-ad14-44f7-ca39-fcb1a87a26cb"
      },
      "source": [
        "deuda_acumulada_menor_indice_natalida_0 = desarrollo_parseado_4.join(desarrollo_parseado_5)\r\n",
        "deuda_acumulada_menor_indice_natalida_0.take(5)"
      ],
      "execution_count": null,
      "outputs": [
        {
          "output_type": "execute_result",
          "data": {
            "text/plain": [
              "[('Ukraine', (10.6, 95941219.4)),\n",
              " ('Russian Federation', (13.166666666666666, 69924222.2)),\n",
              " ('Belize', (22.067, 23329498.4)),\n",
              " ('Guatemala', (25.628666666666664, 41738434.7)),\n",
              " ('Botswana', (26.417666666666666, 7903563.5))]"
            ]
          },
          "metadata": {
            "tags": []
          },
          "execution_count": 32
        }
      ]
    },
    {
      "cell_type": "code",
      "metadata": {
        "id": "5U245C3dWDKK",
        "colab": {
          "base_uri": "https://localhost:8080/"
        },
        "outputId": "4d6f69a5-ac45-4722-a252-b503062e0974"
      },
      "source": [
        "deuda_acumulada_menor_indice_natalidad = deuda_acumulada_menor_indice_natalida_0.map(lambda x: (x[1][0], (x[0], x[1][1]))).sortByKey()\r\n",
        "deuda_acumulada_menor_indice_natalidad.take(5)"
      ],
      "execution_count": null,
      "outputs": [
        {
          "output_type": "execute_result",
          "data": {
            "text/plain": [
              "[(10.6, ('Ukraine', 95941219.4)),\n",
              " (10.604333333333335, ('Moldova', 52456210.6)),\n",
              " (10.9175, ('Thailand', 277799616.8)),\n",
              " (12.178666666666667, ('Albania', 54250280.6)),\n",
              " (12.466666666666667, ('Belarus', 1487363278.5))]"
            ]
          },
          "metadata": {
            "tags": []
          },
          "execution_count": 33
        }
      ]
    },
    {
      "cell_type": "code",
      "metadata": {
        "colab": {
          "base_uri": "https://localhost:8080/",
          "height": 226
        },
        "id": "zwrv6PzkWDT0",
        "outputId": "38a4c8dc-d49e-410e-fe06-0ce254659877"
      },
      "source": [
        "# RESULTADO\r\n",
        "\r\n",
        "deuda_acumulada_top_10_menor_indice_natalidad = deuda_acumulada_menor_indice_natalidad.map(lambda x: (x[1][0],x[1][1])).take(10)\r\n",
        "deuda_acumulada_top_10_menor_indice_natalidad"
      ],
      "execution_count": 1,
      "outputs": [
        {
          "output_type": "error",
          "ename": "NameError",
          "evalue": "ignored",
          "traceback": [
            "\u001b[0;31m---------------------------------------------------------------------------\u001b[0m",
            "\u001b[0;31mNameError\u001b[0m                                 Traceback (most recent call last)",
            "\u001b[0;32m<ipython-input-1-8b3a5448e81b>\u001b[0m in \u001b[0;36m<module>\u001b[0;34m()\u001b[0m\n\u001b[1;32m      1\u001b[0m \u001b[0;31m# RESULTADO\u001b[0m\u001b[0;34m\u001b[0m\u001b[0;34m\u001b[0m\u001b[0;34m\u001b[0m\u001b[0m\n\u001b[1;32m      2\u001b[0m \u001b[0;34m\u001b[0m\u001b[0m\n\u001b[0;32m----> 3\u001b[0;31m \u001b[0mdeuda_acumulada_top_10_menor_indice_natalidad\u001b[0m \u001b[0;34m=\u001b[0m \u001b[0mdeuda_acumulada_menor_indice_natalidad\u001b[0m\u001b[0;34m.\u001b[0m\u001b[0mmap\u001b[0m\u001b[0;34m(\u001b[0m\u001b[0;32mlambda\u001b[0m \u001b[0mx\u001b[0m\u001b[0;34m:\u001b[0m \u001b[0;34m(\u001b[0m\u001b[0mx\u001b[0m\u001b[0;34m[\u001b[0m\u001b[0;36m1\u001b[0m\u001b[0;34m]\u001b[0m\u001b[0;34m[\u001b[0m\u001b[0;36m0\u001b[0m\u001b[0;34m]\u001b[0m\u001b[0;34m,\u001b[0m\u001b[0mx\u001b[0m\u001b[0;34m[\u001b[0m\u001b[0;36m1\u001b[0m\u001b[0;34m]\u001b[0m\u001b[0;34m[\u001b[0m\u001b[0;36m1\u001b[0m\u001b[0;34m]\u001b[0m\u001b[0;34m)\u001b[0m\u001b[0;34m)\u001b[0m\u001b[0;34m.\u001b[0m\u001b[0mtake\u001b[0m\u001b[0;34m(\u001b[0m\u001b[0;36m10\u001b[0m\u001b[0;34m)\u001b[0m\u001b[0;34m\u001b[0m\u001b[0;34m\u001b[0m\u001b[0m\n\u001b[0m\u001b[1;32m      4\u001b[0m \u001b[0mdeuda_acumulada_top_10_menor_indice_natalidad\u001b[0m\u001b[0;34m\u001b[0m\u001b[0;34m\u001b[0m\u001b[0m\n",
            "\u001b[0;31mNameError\u001b[0m: name 'deuda_acumulada_menor_indice_natalidad' is not defined"
          ]
        }
      ]
    },
    {
      "cell_type": "code",
      "metadata": {
        "id": "N-KmBX6BWDWg"
      },
      "source": [
        ""
      ],
      "execution_count": null,
      "outputs": []
    },
    {
      "cell_type": "code",
      "metadata": {
        "id": "6Zqb0pbfWDZY"
      },
      "source": [
        ""
      ],
      "execution_count": null,
      "outputs": []
    },
    {
      "cell_type": "markdown",
      "metadata": {
        "id": "FezG9BMOU5h2"
      },
      "source": [
        "### 9. ¿Hay alguna relación entre los nacimientos y el indicador DT.AMT.DLXF.CD? ¿Cómo podrías demostrarlo?"
      ]
    },
    {
      "cell_type": "code",
      "metadata": {
        "colab": {
          "base_uri": "https://localhost:8080/"
        },
        "id": "dp6oB32Er6Oi",
        "outputId": "28d05665-058c-4f01-e58e-c529088f6ec7"
      },
      "source": [
        "#aprovecho el RDD anterior para hacer el ejercicio\r\n",
        "\r\n",
        "desarrollo_parseado_4.collect()\r\n",
        "nacimientos_2 = desarrollo_parseado_4\r\n",
        ".map(lambda x: (x[1],x[0]))\r\n",
        "nacimientos_2.take(1)"
      ],
      "execution_count": null,
      "outputs": [
        {
          "output_type": "execute_result",
          "data": {
            "text/plain": [
              "[('Japan', 7.933333333333334)]"
            ]
          },
          "metadata": {
            "tags": []
          },
          "execution_count": 33
        }
      ]
    },
    {
      "cell_type": "code",
      "metadata": {
        "id": "8j8WUxhf2eUJ"
      },
      "source": [
        " DT_AMT_DLXF_CD = deuda_parseado.filter(lambda x: x[3] is not '').map(lambda x: (x[0], float(x[3])))"
      ],
      "execution_count": null,
      "outputs": []
    },
    {
      "cell_type": "code",
      "metadata": {
        "id": "ZHNcnmsQ2eZF"
      },
      "source": [
        "nacimientos_indicador = DT_AMT_DLXF_CD.join(nacimientos_2).map(lambda x: (x[0] ,x[1][0] ,x[1][1])).collect() # juntamos pais e indicadores para corresponder nacimientos/indicador y luego escogemos solo los indicadores"
      ],
      "execution_count": null,
      "outputs": []
    },
    {
      "cell_type": "code",
      "metadata": {
        "colab": {
          "base_uri": "https://localhost:8080/"
        },
        "id": "og6HovJDAvMZ",
        "outputId": "28bd76f2-061e-4b97-f596-04804149dafe"
      },
      "source": [
        "nacimientos_indicador"
      ],
      "execution_count": null,
      "outputs": [
        {
          "output_type": "execute_result",
          "data": {
            "text/plain": [
              "[('Belize', 105609924.9, 22.067),\n",
              " ('Botswana', 137995908.0, 26.417666666666666),\n",
              " ('Guatemala', 2911981987.8, 25.628666666666664),\n",
              " ('Russian Federation', 66589761833.5, 13.166666666666666),\n",
              " ('Ukraine', 8148995625.6, 10.6),\n",
              " ('Zambia', 1217643471.9, 38.2975),\n",
              " ('Belarus', 4640037884.2, 12.466666666666667),\n",
              " ('Georgia', 1552116953.6, 14.056),\n",
              " ('Jamaica', 559597431.4, 16.63566666666667),\n",
              " ('Jordan', 1990343479.2, 24.305),\n",
              " ('Moldova', 769232867.0, 10.604333333333335),\n",
              " ('Papua New Guinea', 2842193842.5, 28.1685),\n",
              " ('St. Lucia', 20332673.8, 12.502),\n",
              " ('Turkey', 51555031005.8, 16.717333333333332),\n",
              " ('Albania', 790248675.2, 12.178666666666667),\n",
              " ('Bhutan', 213258536.9, 17.791),\n",
              " ('Brazil', 90041840304.1, 14.467666666666666),\n",
              " ('El Salvador', 2574548482.3, 18.733999999999998),\n",
              " ('Kazakhstan', 27482093686.4, 22.776666666666667),\n",
              " ('Kyrgyz Republic', 816419045.1, 27.03333333333333),\n",
              " ('Malawi', 57422373.1, 35.556),\n",
              " ('Peru', 5881259974.7, 18.564666666666668),\n",
              " ('Philippines', 6479170917.7, 22.935),\n",
              " ('Solomon Islands', 30749703.9, 33.525666666666666),\n",
              " ('St. Vincent and the Grenadines', 26411052.2, 15.011),\n",
              " ('Thailand', 5914706998.3, 10.9175),\n",
              " ('Colombia', 11985674438.7, 15.516),\n",
              " ('Indonesia', 30916112653.8, 19.163999999999998),\n",
              " ('Sri Lanka', 5761489255.9, 16.729),\n",
              " ('Tonga', 10369910.6, 25.362333333333336)]"
            ]
          },
          "metadata": {
            "tags": []
          },
          "execution_count": 38
        }
      ]
    },
    {
      "cell_type": "code",
      "metadata": {
        "id": "kgo-vmeG2eid",
        "colab": {
          "base_uri": "https://localhost:8080/",
          "height": 948
        },
        "outputId": "30d29254-880c-4a4c-c5e9-44997ec25ea8"
      },
      "source": [
        "nacimientos_indicador_df = spark.createDataFrame(nacimientos_indicador, schema=['País','DT.AMT.DLXF.CD', 'Nacimientos']).toPandas()\r\n",
        "nacimientos_indicador_df"
      ],
      "execution_count": null,
      "outputs": [
        {
          "output_type": "execute_result",
          "data": {
            "text/html": [
              "<div>\n",
              "<style scoped>\n",
              "    .dataframe tbody tr th:only-of-type {\n",
              "        vertical-align: middle;\n",
              "    }\n",
              "\n",
              "    .dataframe tbody tr th {\n",
              "        vertical-align: top;\n",
              "    }\n",
              "\n",
              "    .dataframe thead th {\n",
              "        text-align: right;\n",
              "    }\n",
              "</style>\n",
              "<table border=\"1\" class=\"dataframe\">\n",
              "  <thead>\n",
              "    <tr style=\"text-align: right;\">\n",
              "      <th></th>\n",
              "      <th>País</th>\n",
              "      <th>DT.AMT.DLXF.CD</th>\n",
              "      <th>Nacimientos</th>\n",
              "    </tr>\n",
              "  </thead>\n",
              "  <tbody>\n",
              "    <tr>\n",
              "      <th>0</th>\n",
              "      <td>Belize</td>\n",
              "      <td>1.056099e+08</td>\n",
              "      <td>22.067000</td>\n",
              "    </tr>\n",
              "    <tr>\n",
              "      <th>1</th>\n",
              "      <td>Botswana</td>\n",
              "      <td>1.379959e+08</td>\n",
              "      <td>26.417667</td>\n",
              "    </tr>\n",
              "    <tr>\n",
              "      <th>2</th>\n",
              "      <td>Guatemala</td>\n",
              "      <td>2.911982e+09</td>\n",
              "      <td>25.628667</td>\n",
              "    </tr>\n",
              "    <tr>\n",
              "      <th>3</th>\n",
              "      <td>Russian Federation</td>\n",
              "      <td>6.658976e+10</td>\n",
              "      <td>13.166667</td>\n",
              "    </tr>\n",
              "    <tr>\n",
              "      <th>4</th>\n",
              "      <td>Ukraine</td>\n",
              "      <td>8.148996e+09</td>\n",
              "      <td>10.600000</td>\n",
              "    </tr>\n",
              "    <tr>\n",
              "      <th>5</th>\n",
              "      <td>Zambia</td>\n",
              "      <td>1.217643e+09</td>\n",
              "      <td>38.297500</td>\n",
              "    </tr>\n",
              "    <tr>\n",
              "      <th>6</th>\n",
              "      <td>Belarus</td>\n",
              "      <td>4.640038e+09</td>\n",
              "      <td>12.466667</td>\n",
              "    </tr>\n",
              "    <tr>\n",
              "      <th>7</th>\n",
              "      <td>Georgia</td>\n",
              "      <td>1.552117e+09</td>\n",
              "      <td>14.056000</td>\n",
              "    </tr>\n",
              "    <tr>\n",
              "      <th>8</th>\n",
              "      <td>Jamaica</td>\n",
              "      <td>5.595974e+08</td>\n",
              "      <td>16.635667</td>\n",
              "    </tr>\n",
              "    <tr>\n",
              "      <th>9</th>\n",
              "      <td>Jordan</td>\n",
              "      <td>1.990343e+09</td>\n",
              "      <td>24.305000</td>\n",
              "    </tr>\n",
              "    <tr>\n",
              "      <th>10</th>\n",
              "      <td>Moldova</td>\n",
              "      <td>7.692329e+08</td>\n",
              "      <td>10.604333</td>\n",
              "    </tr>\n",
              "    <tr>\n",
              "      <th>11</th>\n",
              "      <td>Papua New Guinea</td>\n",
              "      <td>2.842194e+09</td>\n",
              "      <td>28.168500</td>\n",
              "    </tr>\n",
              "    <tr>\n",
              "      <th>12</th>\n",
              "      <td>St. Lucia</td>\n",
              "      <td>2.033267e+07</td>\n",
              "      <td>12.502000</td>\n",
              "    </tr>\n",
              "    <tr>\n",
              "      <th>13</th>\n",
              "      <td>Turkey</td>\n",
              "      <td>5.155503e+10</td>\n",
              "      <td>16.717333</td>\n",
              "    </tr>\n",
              "    <tr>\n",
              "      <th>14</th>\n",
              "      <td>Albania</td>\n",
              "      <td>7.902487e+08</td>\n",
              "      <td>12.178667</td>\n",
              "    </tr>\n",
              "    <tr>\n",
              "      <th>15</th>\n",
              "      <td>Bhutan</td>\n",
              "      <td>2.132585e+08</td>\n",
              "      <td>17.791000</td>\n",
              "    </tr>\n",
              "    <tr>\n",
              "      <th>16</th>\n",
              "      <td>Brazil</td>\n",
              "      <td>9.004184e+10</td>\n",
              "      <td>14.467667</td>\n",
              "    </tr>\n",
              "    <tr>\n",
              "      <th>17</th>\n",
              "      <td>El Salvador</td>\n",
              "      <td>2.574548e+09</td>\n",
              "      <td>18.734000</td>\n",
              "    </tr>\n",
              "    <tr>\n",
              "      <th>18</th>\n",
              "      <td>Kazakhstan</td>\n",
              "      <td>2.748209e+10</td>\n",
              "      <td>22.776667</td>\n",
              "    </tr>\n",
              "    <tr>\n",
              "      <th>19</th>\n",
              "      <td>Kyrgyz Republic</td>\n",
              "      <td>8.164190e+08</td>\n",
              "      <td>27.033333</td>\n",
              "    </tr>\n",
              "    <tr>\n",
              "      <th>20</th>\n",
              "      <td>Malawi</td>\n",
              "      <td>5.742237e+07</td>\n",
              "      <td>35.556000</td>\n",
              "    </tr>\n",
              "    <tr>\n",
              "      <th>21</th>\n",
              "      <td>Peru</td>\n",
              "      <td>5.881260e+09</td>\n",
              "      <td>18.564667</td>\n",
              "    </tr>\n",
              "    <tr>\n",
              "      <th>22</th>\n",
              "      <td>Philippines</td>\n",
              "      <td>6.479171e+09</td>\n",
              "      <td>22.935000</td>\n",
              "    </tr>\n",
              "    <tr>\n",
              "      <th>23</th>\n",
              "      <td>Solomon Islands</td>\n",
              "      <td>3.074970e+07</td>\n",
              "      <td>33.525667</td>\n",
              "    </tr>\n",
              "    <tr>\n",
              "      <th>24</th>\n",
              "      <td>St. Vincent and the Grenadines</td>\n",
              "      <td>2.641105e+07</td>\n",
              "      <td>15.011000</td>\n",
              "    </tr>\n",
              "    <tr>\n",
              "      <th>25</th>\n",
              "      <td>Thailand</td>\n",
              "      <td>5.914707e+09</td>\n",
              "      <td>10.917500</td>\n",
              "    </tr>\n",
              "    <tr>\n",
              "      <th>26</th>\n",
              "      <td>Colombia</td>\n",
              "      <td>1.198567e+10</td>\n",
              "      <td>15.516000</td>\n",
              "    </tr>\n",
              "    <tr>\n",
              "      <th>27</th>\n",
              "      <td>Indonesia</td>\n",
              "      <td>3.091611e+10</td>\n",
              "      <td>19.164000</td>\n",
              "    </tr>\n",
              "    <tr>\n",
              "      <th>28</th>\n",
              "      <td>Sri Lanka</td>\n",
              "      <td>5.761489e+09</td>\n",
              "      <td>16.729000</td>\n",
              "    </tr>\n",
              "    <tr>\n",
              "      <th>29</th>\n",
              "      <td>Tonga</td>\n",
              "      <td>1.036991e+07</td>\n",
              "      <td>25.362333</td>\n",
              "    </tr>\n",
              "  </tbody>\n",
              "</table>\n",
              "</div>"
            ],
            "text/plain": [
              "                              País  DT.AMT.DLXF.CD  Nacimientos\n",
              "0                           Belize    1.056099e+08    22.067000\n",
              "1                         Botswana    1.379959e+08    26.417667\n",
              "2                        Guatemala    2.911982e+09    25.628667\n",
              "3               Russian Federation    6.658976e+10    13.166667\n",
              "4                          Ukraine    8.148996e+09    10.600000\n",
              "5                           Zambia    1.217643e+09    38.297500\n",
              "6                          Belarus    4.640038e+09    12.466667\n",
              "7                          Georgia    1.552117e+09    14.056000\n",
              "8                          Jamaica    5.595974e+08    16.635667\n",
              "9                           Jordan    1.990343e+09    24.305000\n",
              "10                         Moldova    7.692329e+08    10.604333\n",
              "11                Papua New Guinea    2.842194e+09    28.168500\n",
              "12                       St. Lucia    2.033267e+07    12.502000\n",
              "13                          Turkey    5.155503e+10    16.717333\n",
              "14                         Albania    7.902487e+08    12.178667\n",
              "15                          Bhutan    2.132585e+08    17.791000\n",
              "16                          Brazil    9.004184e+10    14.467667\n",
              "17                     El Salvador    2.574548e+09    18.734000\n",
              "18                      Kazakhstan    2.748209e+10    22.776667\n",
              "19                 Kyrgyz Republic    8.164190e+08    27.033333\n",
              "20                          Malawi    5.742237e+07    35.556000\n",
              "21                            Peru    5.881260e+09    18.564667\n",
              "22                     Philippines    6.479171e+09    22.935000\n",
              "23                 Solomon Islands    3.074970e+07    33.525667\n",
              "24  St. Vincent and the Grenadines    2.641105e+07    15.011000\n",
              "25                        Thailand    5.914707e+09    10.917500\n",
              "26                        Colombia    1.198567e+10    15.516000\n",
              "27                       Indonesia    3.091611e+10    19.164000\n",
              "28                       Sri Lanka    5.761489e+09    16.729000\n",
              "29                           Tonga    1.036991e+07    25.362333"
            ]
          },
          "metadata": {
            "tags": []
          },
          "execution_count": 60
        }
      ]
    },
    {
      "cell_type": "code",
      "metadata": {
        "colab": {
          "base_uri": "https://localhost:8080/",
          "height": 948
        },
        "id": "HID19WGg2emC",
        "outputId": "353718df-62d7-4ca0-9d29-2c15670d3246"
      },
      "source": [
        "nacimientos_indicador_df['DT.AMT.DLXF.CD'] = np.log(nacimientos_indicador_df['DT.AMT.DLXF.CD']) #rpobamos en logaritmos\r\n",
        "nacimientos_indicador_df"
      ],
      "execution_count": null,
      "outputs": [
        {
          "output_type": "execute_result",
          "data": {
            "text/html": [
              "<div>\n",
              "<style scoped>\n",
              "    .dataframe tbody tr th:only-of-type {\n",
              "        vertical-align: middle;\n",
              "    }\n",
              "\n",
              "    .dataframe tbody tr th {\n",
              "        vertical-align: top;\n",
              "    }\n",
              "\n",
              "    .dataframe thead th {\n",
              "        text-align: right;\n",
              "    }\n",
              "</style>\n",
              "<table border=\"1\" class=\"dataframe\">\n",
              "  <thead>\n",
              "    <tr style=\"text-align: right;\">\n",
              "      <th></th>\n",
              "      <th>País</th>\n",
              "      <th>DT.AMT.DLXF.CD</th>\n",
              "      <th>Nacimientos</th>\n",
              "    </tr>\n",
              "  </thead>\n",
              "  <tbody>\n",
              "    <tr>\n",
              "      <th>0</th>\n",
              "      <td>Belize</td>\n",
              "      <td>18.475263</td>\n",
              "      <td>22.067000</td>\n",
              "    </tr>\n",
              "    <tr>\n",
              "      <th>1</th>\n",
              "      <td>Botswana</td>\n",
              "      <td>18.742735</td>\n",
              "      <td>26.417667</td>\n",
              "    </tr>\n",
              "    <tr>\n",
              "      <th>2</th>\n",
              "      <td>Guatemala</td>\n",
              "      <td>21.792100</td>\n",
              "      <td>25.628667</td>\n",
              "    </tr>\n",
              "    <tr>\n",
              "      <th>3</th>\n",
              "      <td>Russian Federation</td>\n",
              "      <td>24.921817</td>\n",
              "      <td>13.166667</td>\n",
              "    </tr>\n",
              "    <tr>\n",
              "      <th>4</th>\n",
              "      <td>Ukraine</td>\n",
              "      <td>22.821161</td>\n",
              "      <td>10.600000</td>\n",
              "    </tr>\n",
              "    <tr>\n",
              "      <th>5</th>\n",
              "      <td>Zambia</td>\n",
              "      <td>20.920183</td>\n",
              "      <td>38.297500</td>\n",
              "    </tr>\n",
              "    <tr>\n",
              "      <th>6</th>\n",
              "      <td>Belarus</td>\n",
              "      <td>22.257988</td>\n",
              "      <td>12.466667</td>\n",
              "    </tr>\n",
              "    <tr>\n",
              "      <th>7</th>\n",
              "      <td>Georgia</td>\n",
              "      <td>21.162886</td>\n",
              "      <td>14.056000</td>\n",
              "    </tr>\n",
              "    <tr>\n",
              "      <th>8</th>\n",
              "      <td>Jamaica</td>\n",
              "      <td>20.142728</td>\n",
              "      <td>16.635667</td>\n",
              "    </tr>\n",
              "    <tr>\n",
              "      <th>9</th>\n",
              "      <td>Jordan</td>\n",
              "      <td>21.411573</td>\n",
              "      <td>24.305000</td>\n",
              "    </tr>\n",
              "    <tr>\n",
              "      <th>10</th>\n",
              "      <td>Moldova</td>\n",
              "      <td>20.460904</td>\n",
              "      <td>10.604333</td>\n",
              "    </tr>\n",
              "    <tr>\n",
              "      <th>11</th>\n",
              "      <td>Papua New Guinea</td>\n",
              "      <td>21.767842</td>\n",
              "      <td>28.168500</td>\n",
              "    </tr>\n",
              "    <tr>\n",
              "      <th>12</th>\n",
              "      <td>St. Lucia</td>\n",
              "      <td>16.827740</td>\n",
              "      <td>12.502000</td>\n",
              "    </tr>\n",
              "    <tr>\n",
              "      <th>13</th>\n",
              "      <td>Turkey</td>\n",
              "      <td>24.665916</td>\n",
              "      <td>16.717333</td>\n",
              "    </tr>\n",
              "    <tr>\n",
              "      <th>14</th>\n",
              "      <td>Albania</td>\n",
              "      <td>20.487858</td>\n",
              "      <td>12.178667</td>\n",
              "    </tr>\n",
              "    <tr>\n",
              "      <th>15</th>\n",
              "      <td>Bhutan</td>\n",
              "      <td>19.178016</td>\n",
              "      <td>17.791000</td>\n",
              "    </tr>\n",
              "    <tr>\n",
              "      <th>16</th>\n",
              "      <td>Brazil</td>\n",
              "      <td>25.223540</td>\n",
              "      <td>14.467667</td>\n",
              "    </tr>\n",
              "    <tr>\n",
              "      <th>17</th>\n",
              "      <td>El Salvador</td>\n",
              "      <td>21.668940</td>\n",
              "      <td>18.734000</td>\n",
              "    </tr>\n",
              "    <tr>\n",
              "      <th>18</th>\n",
              "      <td>Kazakhstan</td>\n",
              "      <td>24.036800</td>\n",
              "      <td>22.776667</td>\n",
              "    </tr>\n",
              "    <tr>\n",
              "      <th>19</th>\n",
              "      <td>Kyrgyz Republic</td>\n",
              "      <td>20.520438</td>\n",
              "      <td>27.033333</td>\n",
              "    </tr>\n",
              "    <tr>\n",
              "      <th>20</th>\n",
              "      <td>Malawi</td>\n",
              "      <td>17.865945</td>\n",
              "      <td>35.556000</td>\n",
              "    </tr>\n",
              "    <tr>\n",
              "      <th>21</th>\n",
              "      <td>Peru</td>\n",
              "      <td>22.495037</td>\n",
              "      <td>18.564667</td>\n",
              "    </tr>\n",
              "    <tr>\n",
              "      <th>22</th>\n",
              "      <td>Philippines</td>\n",
              "      <td>22.591858</td>\n",
              "      <td>22.935000</td>\n",
              "    </tr>\n",
              "    <tr>\n",
              "      <th>23</th>\n",
              "      <td>Solomon Islands</td>\n",
              "      <td>17.241391</td>\n",
              "      <td>33.525667</td>\n",
              "    </tr>\n",
              "    <tr>\n",
              "      <th>24</th>\n",
              "      <td>St. Vincent and the Grenadines</td>\n",
              "      <td>17.089293</td>\n",
              "      <td>15.011000</td>\n",
              "    </tr>\n",
              "    <tr>\n",
              "      <th>25</th>\n",
              "      <td>Thailand</td>\n",
              "      <td>22.500708</td>\n",
              "      <td>10.917500</td>\n",
              "    </tr>\n",
              "    <tr>\n",
              "      <th>26</th>\n",
              "      <td>Colombia</td>\n",
              "      <td>23.206978</td>\n",
              "      <td>15.516000</td>\n",
              "    </tr>\n",
              "    <tr>\n",
              "      <th>27</th>\n",
              "      <td>Indonesia</td>\n",
              "      <td>24.154543</td>\n",
              "      <td>19.164000</td>\n",
              "    </tr>\n",
              "    <tr>\n",
              "      <th>28</th>\n",
              "      <td>Sri Lanka</td>\n",
              "      <td>22.474462</td>\n",
              "      <td>16.729000</td>\n",
              "    </tr>\n",
              "    <tr>\n",
              "      <th>29</th>\n",
              "      <td>Tonga</td>\n",
              "      <td>16.154419</td>\n",
              "      <td>25.362333</td>\n",
              "    </tr>\n",
              "  </tbody>\n",
              "</table>\n",
              "</div>"
            ],
            "text/plain": [
              "                              País  DT.AMT.DLXF.CD  Nacimientos\n",
              "0                           Belize       18.475263    22.067000\n",
              "1                         Botswana       18.742735    26.417667\n",
              "2                        Guatemala       21.792100    25.628667\n",
              "3               Russian Federation       24.921817    13.166667\n",
              "4                          Ukraine       22.821161    10.600000\n",
              "5                           Zambia       20.920183    38.297500\n",
              "6                          Belarus       22.257988    12.466667\n",
              "7                          Georgia       21.162886    14.056000\n",
              "8                          Jamaica       20.142728    16.635667\n",
              "9                           Jordan       21.411573    24.305000\n",
              "10                         Moldova       20.460904    10.604333\n",
              "11                Papua New Guinea       21.767842    28.168500\n",
              "12                       St. Lucia       16.827740    12.502000\n",
              "13                          Turkey       24.665916    16.717333\n",
              "14                         Albania       20.487858    12.178667\n",
              "15                          Bhutan       19.178016    17.791000\n",
              "16                          Brazil       25.223540    14.467667\n",
              "17                     El Salvador       21.668940    18.734000\n",
              "18                      Kazakhstan       24.036800    22.776667\n",
              "19                 Kyrgyz Republic       20.520438    27.033333\n",
              "20                          Malawi       17.865945    35.556000\n",
              "21                            Peru       22.495037    18.564667\n",
              "22                     Philippines       22.591858    22.935000\n",
              "23                 Solomon Islands       17.241391    33.525667\n",
              "24  St. Vincent and the Grenadines       17.089293    15.011000\n",
              "25                        Thailand       22.500708    10.917500\n",
              "26                        Colombia       23.206978    15.516000\n",
              "27                       Indonesia       24.154543    19.164000\n",
              "28                       Sri Lanka       22.474462    16.729000\n",
              "29                           Tonga       16.154419    25.362333"
            ]
          },
          "metadata": {
            "tags": []
          },
          "execution_count": 61
        }
      ]
    },
    {
      "cell_type": "code",
      "metadata": {
        "id": "gazLITnV2epS"
      },
      "source": [
        ""
      ],
      "execution_count": null,
      "outputs": []
    },
    {
      "cell_type": "code",
      "metadata": {
        "colab": {
          "base_uri": "https://localhost:8080/",
          "height": 334
        },
        "id": "Qedq627O2esJ",
        "outputId": "0732ba15-f342-41e9-efcb-824c9bfe6ad9"
      },
      "source": [
        "plt.figure(figsize=(10,5))\r\n",
        "plt.xlabel(\"DT.AMT.DLXF.CD\")\r\n",
        "plt.ylabel(\"Nacimientos\")\r\n",
        "plt.scatter(\"DT.AMT.DLXF.CD\", \"Nacimientos\", data=nacimientos_indicador_df);\r\n"
      ],
      "execution_count": null,
      "outputs": [
        {
          "output_type": "display_data",
          "data": {
            "image/png": "[encoded data removed]",
            "text/plain": [
              "<Figure size 720x360 with 1 Axes>"
            ]
          },
          "metadata": {
            "tags": [],
            "needs_background": "light"
          }
        }
      ]
    },
    {
      "cell_type": "code",
      "metadata": {
        "colab": {
          "base_uri": "https://localhost:8080/",
          "height": 108
        },
        "id": "jHYj14lQ5K7x",
        "outputId": "7956d867-ca3a-4fe4-a1f7-4b653f3bec0b"
      },
      "source": [
        "nacimientos_indicador_df.corr()"
      ],
      "execution_count": null,
      "outputs": [
        {
          "output_type": "execute_result",
          "data": {
            "text/html": [
              "<div>\n",
              "<style scoped>\n",
              "    .dataframe tbody tr th:only-of-type {\n",
              "        vertical-align: middle;\n",
              "    }\n",
              "\n",
              "    .dataframe tbody tr th {\n",
              "        vertical-align: top;\n",
              "    }\n",
              "\n",
              "    .dataframe thead th {\n",
              "        text-align: right;\n",
              "    }\n",
              "</style>\n",
              "<table border=\"1\" class=\"dataframe\">\n",
              "  <thead>\n",
              "    <tr style=\"text-align: right;\">\n",
              "      <th></th>\n",
              "      <th>DT.AMT.DLXF.CD</th>\n",
              "      <th>Nacimientos</th>\n",
              "    </tr>\n",
              "  </thead>\n",
              "  <tbody>\n",
              "    <tr>\n",
              "      <th>DT.AMT.DLXF.CD</th>\n",
              "      <td>1.000000</td>\n",
              "      <td>-0.324406</td>\n",
              "    </tr>\n",
              "    <tr>\n",
              "      <th>Nacimientos</th>\n",
              "      <td>-0.324406</td>\n",
              "      <td>1.000000</td>\n",
              "    </tr>\n",
              "  </tbody>\n",
              "</table>\n",
              "</div>"
            ],
            "text/plain": [
              "                DT.AMT.DLXF.CD  Nacimientos\n",
              "DT.AMT.DLXF.CD        1.000000    -0.324406\n",
              "Nacimientos          -0.324406     1.000000"
            ]
          },
          "metadata": {
            "tags": []
          },
          "execution_count": 50
        }
      ]
    },
    {
      "cell_type": "markdown",
      "metadata": {
        "id": "mtKTcDUw0Z0T"
      },
      "source": [
        "No podemos establecer ninguna relación\r\n"
      ]
    },
    {
      "cell_type": "code",
      "metadata": {
        "id": "vb8Z04U10ggt"
      },
      "source": [
        "#docker\r\n",
        "sc.stop()"
      ],
      "execution_count": null,
      "outputs": []
    },
    {
      "cell_type": "code",
      "metadata": {
        "id": "LIx24mOc22wx"
      },
      "source": [
        "#"
      ],
      "execution_count": null,
      "outputs": []
    },
    {
      "cell_type": "markdown",
      "metadata": {
        "id": "PItTsdvw234J"
      },
      "source": [
        "# FUENTES \r\n",
        "* Apuntes\r\n",
        "* Libro :  \"Learning PySpark\"\r\n",
        "* Datacamp: Big Data fundamentals with pyspark\r\n",
        "* https://regexr.com/"
      ]
    }
  ]
}